{
 "cells": [
  {
   "cell_type": "code",
   "execution_count": 1,
   "metadata": {},
   "outputs": [
    {
     "name": "stdout",
     "output_type": "stream",
     "text": [
      "Processing cardio_structured.pdf - Page 6...\n"
     ]
    },
    {
     "name": "stderr",
     "output_type": "stream",
     "text": [
      "C:\\Users\\subbu\\AppData\\Roaming\\Python\\Python311\\site-packages\\openpyxl\\workbook\\child.py:99: UserWarning: Title is more than 31 characters. Some applications may not be able to read the file\n",
      "  warnings.warn(\"Title is more than 31 characters. Some applications may not be able to read the file\")\n"
     ]
    },
    {
     "name": "stdout",
     "output_type": "stream",
     "text": [
      "Processing prot_sap_102.pdf - Page 50...\n",
      "Processing prot_sap_1.pdf - Page 14...\n",
      "Extraction completed! Saved as new_tables.xlsx\n"
     ]
    }
   ],
   "source": [
    "import pdfplumber\n",
    "import pandas as pd\n",
    "import pytesseract\n",
    "from pdf2image import convert_from_path\n",
    "\n",
    "\n",
    "def extract(pdf_path, page_number):\n",
    "    tabdata = []\n",
    "    with pdfplumber.open(pdf_path) as p:\n",
    "        page = p.pages[page_number - 1]  \n",
    "        table = page.extract_tables()\n",
    "        for tab in table:\n",
    "            df = pd.DataFrame(tab)  \n",
    "            tabdata.append(df)\n",
    "    return tabdata\n",
    "\n",
    "\n",
    "def performpageop(pdf_path, page_number):\n",
    "    images = convert_from_path(pdf_path, first_page=page_number, last_page=page_number)\n",
    "    text = []\n",
    "    for image in images:\n",
    "        img = pytesseract.image_to_string(image)\n",
    "        text.append(img)\n",
    "    return \"\\n\".join(text)\n",
    "pdf_files = {\n",
    "    \"cardio_structured.pdf\": 6,\n",
    "    \"prot_sap_102.pdf\": 50,\n",
    "    \"prot_sap_1.pdf\": 14\n",
    "}\n",
    "\n",
    "\n",
    "output_file = \"new_tables.xlsx\"\n",
    "writer = pd.ExcelWriter(output_file, engine='openpyxl')\n",
    "\n",
    "\n",
    "for pdf_name, page_number in pdf_files.items():\n",
    "    print(f\"Processing {pdf_name} - Page {page_number}...\")\n",
    "    pdf_path = f\"./{pdf_name}\"  \n",
    "   \n",
    "    tables = extract(pdf_path, page_number)\n",
    "\n",
    "    if tables:\n",
    "        for i, table in enumerate(tables):\n",
    "            table.to_excel(writer, sheet_name=f\"{pdf_name}_Page{page_number}_Table{i+1}\", index=False)\n",
    "    else:\n",
    "       \n",
    "        text = performpageop(pdf_path, page_number)\n",
    "        df_text = pd.DataFrame([text.split(\"\\n\")])\n",
    "        df_text.to_excel(writer, sheet_name=f\"{pdf_name}_Page{page_number}_OCR\", index=False)\n",
    "\n",
    "\n",
    "writer.close()\n",
    "print(f\"Extraction completed! Saved as {output_file}\")"
   ]
  }
 ],
 "metadata": {
  "kernelspec": {
   "display_name": "base",
   "language": "python",
   "name": "python3"
  },
  "language_info": {
   "codemirror_mode": {
    "name": "ipython",
    "version": 3
   },
   "file_extension": ".py",
   "mimetype": "text/x-python",
   "name": "python",
   "nbconvert_exporter": "python",
   "pygments_lexer": "ipython3",
   "version": "3.11.7"
  }
 },
 "nbformat": 4,
 "nbformat_minor": 2
}
